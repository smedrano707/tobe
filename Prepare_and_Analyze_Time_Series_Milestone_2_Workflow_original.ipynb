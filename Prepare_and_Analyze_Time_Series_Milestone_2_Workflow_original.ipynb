{
  "cells": [
    {
      "cell_type": "markdown",
      "metadata": {
        "id": "gR1YY9TQhnx0"
      },
      "source": [
        "# Prepare and Analyze Time Series - Milestone 2"
      ]
    },
    {
      "cell_type": "markdown",
      "metadata": {
        "id": "UCFDup7RhnyT"
      },
      "source": [
        "This Jupyter notebook serves as a guided workflow to Milestone 2 of the liveProject on End-to-end Time Series Forecasting with Deep Learning.\n",
        "\n",
        "You can upload this notebook to Colab and work from there. Alternatively, you can also work on this notebook in your local environment."
      ]
    },
    {
      "cell_type": "markdown",
      "metadata": {
        "id": "qlMgmeM6hnzU"
      },
      "source": [
        "Once again, great job on completing previous Milestone! We have preliminarily processed and cleaned the data so we can now proceed with our exploratory data analysis. Based on the results of our analysis, we may either proceed to modeling or further perform some data processing and cleaning as shown in the diagram below."
      ]
    },
    {
      "cell_type": "markdown",
      "metadata": {
        "id": "H03csGvnhnz8"
      },
      "source": [
        "![Milestone 2](https://s3.ap-southeast-1.amazonaws.com/www.jiahao.io/manning/project1_milestone2.png)"
      ]
    },
    {
      "cell_type": "markdown",
      "metadata": {
        "id": "U6GOB0WPhn0n"
      },
      "source": [
        "Specifically in Milestone 2, we shall complete 3 tasks:\n",
        "1. Analyze and visualize retail sales by weekday, month and year\n",
        "2. Determine seasonality\n",
        "3. Train-test split data for model ingestion\n",
        "\n",
        "Without further ado, let's begin!"
      ]
    },
    {
      "cell_type": "markdown",
      "metadata": {
        "id": "uxVaVYxihn04"
      },
      "source": [
        "## Importing Necessary Libraries and Functions"
      ]
    },
    {
      "cell_type": "markdown",
      "metadata": {
        "id": "XXcArlBAhn1p"
      },
      "source": [
        "Let us first import the necessary libraries and load the data that we will be working with throughout this Milestone. \n",
        "\n",
        "The data (data/sales_processed.csv) that we are using is an output from previous Milestone. \n",
        "\n",
        "Again, recall that in this liveProject, you are a data scientist at a large retailer and your challenge is to forecast the sales of the respective stores by each category for the next 28 days."
      ]
    },
    {
      "cell_type": "markdown",
      "metadata": {
        "id": "L4N6ZvYUhn2p"
      },
      "source": [
        "<ins>Instructions</ins>:<br>\n",
        "- We have written the code to import the libraries so you can just run it as-is. If you need other libraries while working on this notebook, please feel free to add the library to this cell below."
      ]
    },
    {
      "cell_type": "code",
      "execution_count": 10,
      "metadata": {
        "colab": {
          "base_uri": "https://localhost:8080/"
        },
        "id": "hqmtSzVchn3g",
        "outputId": "7377769f-a226-4b99-e6b3-d31f12d08026"
      },
      "outputs": [],
      "source": [
        "RunningInCOLAB = 'google.colab' in str(get_ipython())\n",
        "\n",
        "# import necessary libraries\n",
        "import pandas as pd\n",
        "import numpy as np\n",
        "import matplotlib.pyplot as plt\n",
        "import seaborn as sns\n",
        "if RunningInCOLAB:\n",
        "  !pip install plotly==5.2.1  # Do restart runtime when prompted if you are running this in Colab\n",
        "import plotly.express as px\n",
        "from scipy import signal\n",
        "from scipy.signal import savgol_filter\n",
        "\n",
        "np.seterr(divide='ignore')\n",
        "\n",
        "%matplotlib inline\n",
        "\n",
        "# suppress pandas SettingWithCopyWarning \n",
        "pd.options.mode.chained_assignment = None"
      ]
    },
    {
      "cell_type": "markdown",
      "metadata": {
        "id": "mE_-5RLahn5P"
      },
      "source": [
        "## Initial Data Exploration"
      ]
    },
    {
      "cell_type": "markdown",
      "metadata": {
        "id": "laSUga4shn5f"
      },
      "source": [
        "<ins>Instructions</ins>:<br>\n",
        "- Read in the data *sales_processed.csv* from the data folder into a pandas dataframe and preview the first 5 rows. Set the `date` column to datetime format."
      ]
    },
    {
      "cell_type": "markdown",
      "metadata": {},
      "source": [
        "<ins>Hints</ins> (click when needed):<br>\n",
        "- [Follow the example code here to upload files to Colab from your local file system](https://colab.research.google.com/notebooks/io.ipynb)\n",
        "- [Use Pandas `read_csv` function to load CSV data](https://pandas.pydata.org/pandas-docs/stable/reference/api/pandas.read_csv.html)"
      ]
    },
    {
      "cell_type": "code",
      "execution_count": null,
      "metadata": {
        "colab": {
          "base_uri": "https://localhost:8080/",
          "height": 89,
          "resources": {
            "http://localhost:8080/nbextensions/google.colab/files.js": {
              "data": "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",
              "headers": [
                [
                  "content-type",
                  "application/javascript"
                ]
              ],
              "ok": true,
              "status": 200,
              "status_text": ""
            }
          }
        },
        "id": "LPVrL6zAhvD6",
        "outputId": "90e5f08d-1713-4c0e-91fb-9fd35a52375f"
      },
      "outputs": [],
      "source": [
        "# upload file from Colab\n"
      ]
    },
    {
      "cell_type": "code",
      "execution_count": null,
      "metadata": {
        "colab": {
          "base_uri": "https://localhost:8080/",
          "height": 391
        },
        "id": "1hNba5bKhn5i",
        "outputId": "79de1518-645c-4b41-8fb4-c5605afe47da"
      },
      "outputs": [],
      "source": [
        "# read in our processed data\n",
        "# by using parse_dates in parameter of read_csv, we can convert date column to datetime format without additional step\n"
      ]
    },
    {
      "cell_type": "markdown",
      "metadata": {
        "id": "NzC3oQW8hn6M"
      },
      "source": [
        "As a start, let's try to visualize our time series data. Remember we have multiple time series with each series being sales by store and category. So we need to plot each of these series as separate lines. Rather than plotting individual line charts, let's plot them all on same plot so that we can also compare across series."
      ]
    },
    {
      "cell_type": "markdown",
      "metadata": {
        "id": "svmdYafyhn6a"
      },
      "source": [
        "<ins>Instructions</ins>:<br>\n",
        "- Plot line charts of each time series in the same diagram."
      ]
    },
    {
      "cell_type": "markdown",
      "metadata": {},
      "source": [
        "<ins>Hints</ins> (click when needed):<br>\n",
        "- [Use Pandas `plot` method to plot line charts](https://pandas.pydata.org/docs/reference/api/pandas.DataFrame.plot.html)\n",
        "- [Use Pandas `groupby` to plot by groups](https://stackoverflow.com/questions/41494942/pandas-dataframe-groupby-plot)"
      ]
    },
    {
      "cell_type": "code",
      "execution_count": null,
      "metadata": {
        "colab": {
          "base_uri": "https://localhost:8080/",
          "height": 511
        },
        "id": "L6tqRz9Nhn6j",
        "outputId": "9eb3963d-44af-4b14-d5c0-4f2c938eafd3"
      },
      "outputs": [],
      "source": [
        "# plot line chart by group\n"
      ]
    },
    {
      "cell_type": "markdown",
      "metadata": {
        "id": "MOzToz8Xhn6o"
      },
      "source": [
        "Oops! Ok that did not work well... Let's reduce the number of series in a plot by filtering by category and plot an interactive plot for easy toggling. Below, we plotted a Plotly diagram where one can click on the variable in the legend to toggle the time series on or off. We can also zoom into a section of the plot by click dragging a box around that particular section."
      ]
    },
    {
      "cell_type": "markdown",
      "metadata": {
        "id": "oHMaWNnzhn6o"
      },
      "source": [
        "<ins>Instructions</ins>:<br>\n",
        "- Plot line charts of the same category in a plotly diagram\n",
        "- Play around with the diagrams and analyse the time series"
      ]
    },
    {
      "cell_type": "markdown",
      "metadata": {},
      "source": [
        "<ins>Hints</ins> (click when needed):<br>\n",
        "- [Refer to Plotly example on \"Configuring Tick Labels\" to plot your own Plotly line charts](https://plotly.com/python/time-series/#configuring-tick-labels)\n",
        "- [In order to fit Plotly's example, use Pandas `pivot_table` function to reshape your dataframe](https://pandas.pydata.org/docs/reference/api/pandas.pivot_table.html)"
      ]
    },
    {
      "cell_type": "code",
      "execution_count": null,
      "metadata": {
        "colab": {
          "base_uri": "https://localhost:8080/",
          "height": 542
        },
        "id": "2kclxjnVhn6w",
        "outputId": "0e1f8af8-b92a-4ab8-940f-f6df4c10ee24"
      },
      "outputs": [],
      "source": [
        "# function to show plotly plot\n",
        "def show_sales(df, category):\n",
        "    \"\"\"\n",
        "    Plot interactive line charts of sales\n",
        "    \"\"\"\n",
        "    \n",
        "\n",
        "# plot for FOODS category\n"
      ]
    },
    {
      "cell_type": "code",
      "execution_count": null,
      "metadata": {},
      "outputs": [],
      "source": [
        "# plot for HOBBIES category\n"
      ]
    },
    {
      "cell_type": "code",
      "execution_count": null,
      "metadata": {},
      "outputs": [],
      "source": [
        "# plot for HOUSEHOLD category\n"
      ]
    },
    {
      "cell_type": "markdown",
      "metadata": {
        "id": "tvgWM4ANhn7D"
      },
      "source": [
        "From our Plotly diagrams, we can see that there are some time series which have abrupt breaks in trend. These breaks will not be helpful for our modeling later so we should remove the past data before the breaks.\n",
        "\n",
        "![Trend Break](https://s3.ap-southeast-1.amazonaws.com/www.jiahao.io/manning/trend_break.PNG)"
      ]
    },
    {
      "cell_type": "markdown",
      "metadata": {
        "id": "LMvFPG6Qhn7O"
      },
      "source": [
        "<ins>Instructions</ins>:<br>\n",
        "- Identify the time series with breaks in trend \n",
        "- Remove the past data before the breaks from these time series (e.g., we identified data points for series_id=='WI_1_FOODS' and < '2012-11-01' should be dropped due to trend break)\n",
        "- Save the output as `sales_cleaned.csv` in the data folder"
      ]
    },
    {
      "cell_type": "markdown",
      "metadata": {},
      "source": [
        "<ins>Hints</ins> (click when needed):<br>\n",
        "- [Use Pandas `to_csv` method to save your output as CSV file](https://pandas.pydata.org/docs/reference/api/pandas.DataFrame.to_csv.html)"
      ]
    },
    {
      "cell_type": "code",
      "execution_count": null,
      "metadata": {
        "colab": {
          "base_uri": "https://localhost:8080/"
        },
        "id": "bQCb2sFAhn7Y",
        "outputId": "7a6a7e24-29f6-4373-a0bf-1bc35947bd79"
      },
      "outputs": [],
      "source": [
        "# drop the data points identified as past data before trend breaks\n"
      ]
    },
    {
      "cell_type": "code",
      "execution_count": null,
      "metadata": {
        "id": "7KSOUNCfhn7i"
      },
      "outputs": [],
      "source": [
        "# save output to sales_cleaned.csv\n"
      ]
    },
    {
      "cell_type": "markdown",
      "metadata": {
        "id": "_ySYOj07hn7i"
      },
      "source": [
        "Now that we have our sales data cleaned up, we can analyse the sales data again in detail. Specifically, we are going to analyze and visualize the retail sales by weekday, month and year, or in other words, find out the trend and seasonality patterns."
      ]
    },
    {
      "cell_type": "markdown",
      "metadata": {
        "id": "H6EVlEDbhn7j"
      },
      "source": [
        "<ins>Instructions</ins>:<br>\n",
        "- Choose a random `store_id` and `cat_id` to analyse the time series\n",
        "- Plot the box plots of the sales by weekday, day of month, and month separately\n",
        "- Plot line charts of sales by weekday, day of month, and month separately by year\n",
        "\n",
        "<ins>Note</ins>: Use the diagrams below as a reference for your plots.\n",
        "\n",
        "![Seasonality plots](https://s3.ap-southeast-1.amazonaws.com/www.jiahao.io/manning/seasonality_pattern_plots.PNG)"
      ]
    },
    {
      "cell_type": "markdown",
      "metadata": {},
      "source": [
        "<ins>Hints</ins> (click when needed):<br>\n",
        "- [Use Seaborn `boxplot` to generate box plots](https://seaborn.pydata.org/generated/seaborn.boxplot.html)\n",
        "- [Use Seaborn `lineplot` to plot line plots](https://seaborn.pydata.org/generated/seaborn.lineplot.html)"
      ]
    },
    {
      "cell_type": "code",
      "execution_count": null,
      "metadata": {
        "id": "BaB2LJX2hn7l"
      },
      "outputs": [],
      "source": [
        "# filter for a time series\n"
      ]
    },
    {
      "cell_type": "code",
      "execution_count": null,
      "metadata": {
        "colab": {
          "base_uri": "https://localhost:8080/",
          "height": 623
        },
        "id": "maLxIaPLhn7v",
        "outputId": "22edb138-bbbc-4a6b-faeb-2b791e143232"
      },
      "outputs": [],
      "source": [
        "# box plots by weekday, day of month, and month\n"
      ]
    },
    {
      "cell_type": "code",
      "execution_count": null,
      "metadata": {
        "colab": {
          "base_uri": "https://localhost:8080/",
          "height": 623
        },
        "id": "QWivRNaxhn73",
        "outputId": "b51ea1b9-ddd2-4acf-86cc-92a77cc16b06"
      },
      "outputs": [],
      "source": [
        "# line charts by weekday, day of month, and month, group by year\n"
      ]
    },
    {
      "cell_type": "markdown",
      "metadata": {
        "id": "kVy5vMIWhn8A"
      },
      "source": [
        "From our plots, we can clearly see a strong weekday pattern and some monthly seasonality: \n",
        "- Sales tend to be higher on Friday and weekends\n",
        "- Mid of the month spike in sales followed by a trend downwards for rest of month\n",
        "- No obvious yearly seasonality\n",
        "\n",
        "Besides using plots, is there a more objective way of determining seasonality? This is what we will investigate in the next section below."
      ]
    },
    {
      "cell_type": "markdown",
      "metadata": {
        "id": "g-mwF60Zhn8A"
      },
      "source": [
        "## Determine Seasonality"
      ]
    },
    {
      "cell_type": "markdown",
      "metadata": {
        "id": "kwljJB8-hn8B"
      },
      "source": [
        "Let's now have a more objective way of determining seasonality. We can do this via a periodogram.\n",
        "\n",
        "You can read up more about what is a periodogram over [here](https://online.stat.psu.edu/stat510/lesson/6/6.1#paragraph--356). But in a nutshell, a time series can be viewed as a composition of repeating waves of various amplitude and frequency, and the peridogram shows the possible frequency values that are important in describing the oscillating pattern of the time series. Thus, if there is a seasonality pattern that repeats itself, the periodogram will be able to capture that."
      ]
    },
    {
      "cell_type": "markdown",
      "metadata": {},
      "source": [
        "As an example, we show below a time series exhibiting periodicity every 3 time intervals. "
      ]
    },
    {
      "cell_type": "code",
      "execution_count": 16,
      "metadata": {},
      "outputs": [
        {
          "data": {
            "text/plain": [
              "<AxesSubplot:>"
            ]
          },
          "execution_count": 16,
          "metadata": {},
          "output_type": "execute_result"
        },
        {
          "data": {
            "image/png": "[encoded data removed]",
            "text/plain": [
              "<Figure size 432x288 with 1 Axes>"
            ]
          },
          "metadata": {
            "needs_background": "light"
          },
          "output_type": "display_data"
        }
      ],
      "source": [
        "df = pd.DataFrame({'sales': [3, 4, 5, 4, 5, 6, 5, 6, 7, 6, 7, 8]})\n",
        "df.plot()"
      ]
    },
    {
      "cell_type": "markdown",
      "metadata": {},
      "source": [
        "To determine the periodicity, we first detrend the time series before setting up the periodogram so as to give more accurate results as mentioned by [this online university resource notes](https://online.stat.psu.edu/stat510/lesson/6/6.1#paragraph--360).\n",
        "> \"\"\"\n",
        "\n",
        "> It’s generally best to detrend the data either using differences or some sort of trend line before determining the periodogram\n",
        "\n",
        "> \"\"\""
      ]
    },
    {
      "cell_type": "code",
      "execution_count": 20,
      "metadata": {},
      "outputs": [
        {
          "data": {
            "image/png": "[encoded data removed]",
            "text/plain": [
              "<Figure size 432x288 with 1 Axes>"
            ]
          },
          "metadata": {
            "needs_background": "light"
          },
          "output_type": "display_data"
        }
      ],
      "source": [
        "# scipy detrend is used to detrend sales\n",
        "data_detrended = signal.detrend(df['sales'].values)\n",
        "\n",
        "_ = plt.plot(data_detrended)"
      ]
    },
    {
      "cell_type": "markdown",
      "metadata": {},
      "source": [
        "We then set up a periodogram using [Scipy's periodogram](https://docs.scipy.org/doc/scipy/reference/generated/scipy.signal.periodogram.html) and plot the periodogram to identify the main seasonality pattern(s).\n",
        "\n",
        "Notice the peak in the Periodogram below at around frequency 0.33."
      ]
    },
    {
      "cell_type": "code",
      "execution_count": 21,
      "metadata": {},
      "outputs": [
        {
          "data": {
            "image/png": "[encoded data removed]",
            "text/plain": [
              "<Figure size 432x288 with 1 Axes>"
            ]
          },
          "metadata": {
            "needs_background": "light"
          },
          "output_type": "display_data"
        }
      ],
      "source": [
        "f, Periodogram = signal.periodogram(data_detrended)\n",
        "plt.plot(f, Periodogram)\n",
        "plt.title(\"Periodogram\")\n",
        "plt.xlabel('Frequency')\n",
        "plt.ylabel('Power Spectrum')\n",
        "plt.show()"
      ]
    },
    {
      "cell_type": "markdown",
      "metadata": {},
      "source": [
        "\n",
        "As frequency values are not very reader-friendly, we can invert the frequency values from periodogram (i.e., 1/freq) to get the time interval values.\n",
        "\n",
        "So in the dataframe below, after inverting the frequencies, we see that the peak frequency corresponds to a time interval of 3, which is what we have purposedly set the data to be."
      ]
    },
    {
      "cell_type": "code",
      "execution_count": 22,
      "metadata": {},
      "outputs": [
        {
          "data": {
            "text/html": [
              "<div>\n",
              "<style scoped>\n",
              "    .dataframe tbody tr th:only-of-type {\n",
              "        vertical-align: middle;\n",
              "    }\n",
              "\n",
              "    .dataframe tbody tr th {\n",
              "        vertical-align: top;\n",
              "    }\n",
              "\n",
              "    .dataframe thead th {\n",
              "        text-align: right;\n",
              "    }\n",
              "</style>\n",
              "<table border=\"1\" class=\"dataframe\">\n",
              "  <thead>\n",
              "    <tr style=\"text-align: right;\">\n",
              "      <th></th>\n",
              "      <th>interval</th>\n",
              "      <th>power_spectral_density</th>\n",
              "    </tr>\n",
              "  </thead>\n",
              "  <tbody>\n",
              "    <tr>\n",
              "      <th>4</th>\n",
              "      <td>3.0</td>\n",
              "      <td>3.168859</td>\n",
              "    </tr>\n",
              "    <tr>\n",
              "      <th>1</th>\n",
              "      <td>12.0</td>\n",
              "      <td>0.124590</td>\n",
              "    </tr>\n",
              "    <tr>\n",
              "      <th>2</th>\n",
              "      <td>6.0</td>\n",
              "      <td>0.033384</td>\n",
              "    </tr>\n",
              "    <tr>\n",
              "      <th>3</th>\n",
              "      <td>4.0</td>\n",
              "      <td>0.016692</td>\n",
              "    </tr>\n",
              "    <tr>\n",
              "      <th>5</th>\n",
              "      <td>2.4</td>\n",
              "      <td>0.008945</td>\n",
              "    </tr>\n",
              "    <tr>\n",
              "      <th>6</th>\n",
              "      <td>2.0</td>\n",
              "      <td>0.004173</td>\n",
              "    </tr>\n",
              "    <tr>\n",
              "      <th>0</th>\n",
              "      <td>inf</td>\n",
              "      <td>0.000000</td>\n",
              "    </tr>\n",
              "  </tbody>\n",
              "</table>\n",
              "</div>"
            ],
            "text/plain": [
              "   interval  power_spectral_density\n",
              "4       3.0                3.168859\n",
              "1      12.0                0.124590\n",
              "2       6.0                0.033384\n",
              "3       4.0                0.016692\n",
              "5       2.4                0.008945\n",
              "6       2.0                0.004173\n",
              "0       inf                0.000000"
            ]
          },
          "execution_count": 22,
          "metadata": {},
          "output_type": "execute_result"
        }
      ],
      "source": [
        "# Make dataframe for finding frequency with highest power spectrum\n",
        "data = {'interval':1/f, 'power_spectral_density':Periodogram}\n",
        "df_periodogram = pd.DataFrame(data = data)\n",
        "df_periodogram.sort_values(by=['power_spectral_density'], ascending=False, inplace=True)\n",
        "df_periodogram"
      ]
    },
    {
      "cell_type": "markdown",
      "metadata": {},
      "source": [
        "Hope this example helps you to understand how to set up a periodogram.\n",
        "\n",
        "Without further ado, let's plot the periodogram for our data."
      ]
    },
    {
      "cell_type": "markdown",
      "metadata": {
        "id": "0onVCJlNhn8J"
      },
      "source": [
        "<ins>Instructions</ins>:<br>\n",
        "- Select a random time series for the periodogram setup.\n",
        "- Detrend the time series before setting up the periodogram so as to give more accurate results as mentioned by [this online university resource notes](https://online.stat.psu.edu/stat510/lesson/6/6.1#paragraph--360)\n",
        "    > \"\"\"\n",
        "\n",
        "    > It’s generally best to detrend the data either using differences or some sort of trend line before determining the periodogram\n",
        "    \n",
        "    > \"\"\"\n",
        "- Set up a periodogram using [Scipy's periodogram](https://docs.scipy.org/doc/scipy/reference/generated/scipy.signal.periodogram.html)\n",
        "-  Plot a periodogram and identify the main seasonality pattern(s)\n",
        "- Investigate a few other time series and identify the main seasonality pattern(s)"
      ]
    },
    {
      "cell_type": "markdown",
      "metadata": {},
      "source": [
        "<ins>Hints</ins> (click when needed):<br>\n",
        "- [Scipy `detrend` can be used to detrend the time series before setting up the periodogram](https://docs.scipy.org/doc/scipy/reference/generated/scipy.signal.detrend.html)\n",
        "- The frequency values from periodogram can be inverted (i.e., 1/freq) to get the time interval values."
      ]
    },
    {
      "cell_type": "code",
      "execution_count": null,
      "metadata": {
        "id": "csoqrc7Uhn8Q"
      },
      "outputs": [],
      "source": [
        "def detrend_series(store, category):\n",
        "    \"\"\"\n",
        "    Detrend the sales of a time series and return the detrended sales value, \n",
        "    the trend identified, and the original sales \n",
        "    \"\"\"\n",
        "\n",
        "    return\n",
        "\n",
        "def summarise_periodicity(data_detrended):\n",
        "    \"\"\"\n",
        "    Extract important frequency values with periodogram\n",
        "    \"\"\"\n",
        "    \n",
        "    return\n",
        "\n",
        "def plot_periodicity(data_detrended):\n",
        "    \"\"\"\n",
        "    Plot periodogram\n",
        "    \"\"\"\n",
        "    "
      ]
    },
    {
      "cell_type": "markdown",
      "metadata": {
        "id": "PZHB7WrPhn8Q"
      },
      "source": [
        "After sampling a few time series and analysing the periodograms, we can see that there are generally 2-3 significant frequency values. One of them has an especially large power spectral density compared to the other frequency values. We can guess that this is probably the weekly seasonality based on our earlier analysis of the plots."
      ]
    },
    {
      "cell_type": "markdown",
      "metadata": {
        "id": "aN7qczYghn82"
      },
      "source": [
        "As frequency values probably do not make sense to us, we can invert them to obtain the time interval values. By filtering the top 3 frequency values for each time series and summarising the counts of the time intervals, we are able to clearly identify the weekly (time interval 7) and monthly seasonalities (time interval 30). We can ignore the rest of the time intervals that are not as frequently occurring. Interestingly, time interval 3 is frequently occurring and we can perhaps interpret it as half-weekly seasonality."
      ]
    },
    {
      "cell_type": "markdown",
      "metadata": {
        "id": "MuRXqJJMhn89"
      },
      "source": [
        "Having analyzed our time series, we are now ready to proceed to our last step before moving on to modeling in the next Milestone."
      ]
    },
    {
      "cell_type": "markdown",
      "metadata": {
        "id": "t3RUfk6Khn9A"
      },
      "source": [
        "## Train-Test Split"
      ]
    },
    {
      "cell_type": "markdown",
      "metadata": {
        "id": "en5DImuDhn9B"
      },
      "source": [
        "In order to measure the performance of our models on unseen data, train-test split is a very important technique to implement before modeling. We can use [cross validation](https://otexts.com/fpp3/tscv.html), a more sophisticated form of train-test split, to evaluate our models more accurately.\n",
        "\n",
        "For time series, we will also need to take in consideration the temporal interdependence.\n",
        "\n",
        "In our case, we will be implementing a nested walk-forward validation.\n",
        "\n",
        "![Nested Walk-Forward Validation](https://s3.ap-southeast-1.amazonaws.com/www.jiahao.io/manning/walk_forward_validation.png)\n",
        "\n",
        "For our hyperparameter tuning, we will train on the training data and evaluate on the validation data in each split. Based on the average model score across the splits, we choose the optimal hyperparameters.\n",
        "\n",
        "Example for a walk-forward validation with three splits, the process is as follows:\n",
        "1. Select a set of hyperparameters\n",
        "2. Train on 1st-split training data using the selected set of hyperparameters\n",
        "3. Evaluate on 1st-split validation data\n",
        "4. Repeat steps 2 and 3 for the 2nd and 3rd splits\n",
        "5. Average the model score obtained for the three splits\n",
        "6. Repeat steps 1 to 6 for the next set of hyperparameters till all sets are evaluated\n",
        "7. Optimal hyperparameters will be the one with best average model score\n",
        "\n",
        "Then using the optimal hyperparameters, we will train on the combined training and validation data, and evaluate on the test data in each split. The average model score will be our final score for the model.\n",
        "\n",
        "Let's implement our train-test split now."
      ]
    },
    {
      "cell_type": "markdown",
      "metadata": {
        "id": "7JqKrlkKhn9E"
      },
      "source": [
        "<ins>Instructions</ins>:<br>\n",
        "- Code a function that implements train-test split given a cross-validation split number and returns the split's training, validation and test data. Since we are required to forecast for the next 28 days, we can set 28 days as the period for test and validation data. "
      ]
    },
    {
      "cell_type": "markdown",
      "metadata": {},
      "source": [
        "<ins>Hints</ins> (click when needed):<br>\n",
        "- [Pandas `timedelta` can be used to represent a duration, e.g., 28 days](https://pandas.pydata.org/docs/reference/api/pandas.Timedelta.html)"
      ]
    },
    {
      "cell_type": "code",
      "execution_count": null,
      "metadata": {
        "id": "S_oHg8vDhn9E"
      },
      "outputs": [],
      "source": [
        "def get_cv_split(df, split_num, prediction_length=28, validation=True):\n",
        "    \"\"\"\n",
        "    Implement train-test split given a cv split number and return training, val and test data\n",
        "    \"\"\"\n",
        "\n",
        "    return training_df, validation_df, test_df"
      ]
    },
    {
      "cell_type": "markdown",
      "metadata": {
        "id": "4ai_kVa8hn9F"
      },
      "source": [
        "We can do some quick checks to see that our train-test function does work as expected:\n",
        "- No overlap in time period\n",
        "- 28 days in each test and validation data"
      ]
    },
    {
      "cell_type": "code",
      "execution_count": null,
      "metadata": {
        "colab": {
          "base_uri": "https://localhost:8080/"
        },
        "id": "GYYHzDJkhn9F",
        "outputId": "a8883d37-339d-47c9-d890-c0fdc9df4b68"
      },
      "outputs": [],
      "source": [
        "# check train-test split function\n"
      ]
    },
    {
      "cell_type": "markdown",
      "metadata": {
        "id": "ctuFhCPAhn9F"
      },
      "source": [
        "With the analysis and train-test split function done, we are now ready to move on to modeling in our next final Milestone. Good job!\n",
        "\n",
        "Do check your answers against our solution before moving on to the next Milestone."
      ]
    }
  ],
  "metadata": {
    "colab": {
      "collapsed_sections": [],
      "name": "Prepare and Analyze Time Series - Milestone 2 Solution.ipynb",
      "provenance": []
    },
    "interpreter": {
      "hash": "b7bc2e76cbe5fb8595f4ba211d5aadd6fa3b8e13e3681bdb0f26937058245569"
    },
    "kernelspec": {
      "display_name": "Python 3.7.10 64-bit ('manning': conda)",
      "name": "python3"
    },
    "language_info": {
      "codemirror_mode": {
        "name": "ipython",
        "version": 3
      },
      "file_extension": ".py",
      "mimetype": "text/x-python",
      "name": "python",
      "nbconvert_exporter": "python",
      "pygments_lexer": "ipython3",
      "version": "3.7.10"
    },
    "orig_nbformat": 4
  },
  "nbformat": 4,
  "nbformat_minor": 2
}
